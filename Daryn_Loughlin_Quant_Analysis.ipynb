{
  "nbformat": 4,
  "nbformat_minor": 0,
  "metadata": {
    "colab": {
      "provenance": [],
      "authorship_tag": "ABX9TyOJs7rVV69sWFjxZadKhOK9",
      "include_colab_link": true
    },
    "kernelspec": {
      "name": "python3",
      "display_name": "Python 3"
    },
    "language_info": {
      "name": "python"
    }
  },
  "cells": [
    {
      "cell_type": "markdown",
      "metadata": {
        "id": "view-in-github",
        "colab_type": "text"
      },
      "source": [
        "<a href=\"https://colab.research.google.com/github/dclocky/quant_analysis/blob/main/Daryn_Loughlin_Quant_Analysis.ipynb\" target=\"_parent\"><img src=\"https://colab.research.google.com/assets/colab-badge.svg\" alt=\"Open In Colab\"/></a>"
      ]
    },
    {
      "cell_type": "code",
      "execution_count": null,
      "metadata": {
        "id": "9Ub0eYKnXv48"
      },
      "outputs": [],
      "source": []
    },
    {
      "cell_type": "code",
      "execution_count": null,
      "metadata": {
        "id": "PseB7joLC_X0"
      },
      "outputs": [],
      "source": [
        "from google.colab import drive,files\n",
        "drive.mount('/content/gdrive')"
      ]
    },
    {
      "cell_type": "code",
      "source": [
        "!pip install requests pandas pyjstat"
      ],
      "metadata": {
        "id": "eeEquOvSDDcy"
      },
      "execution_count": null,
      "outputs": []
    },
    {
      "cell_type": "markdown",
      "source": [
        "##Below is the import for the RPPI - A file I have downloaded from the CSO's website reference : ##"
      ],
      "metadata": {
        "id": "l3eXCysEDP-I"
      }
    },
    {
      "cell_type": "code",
      "source": [
        "!unzip /content/gdrive/MyDrive/PPR-ALL.zip"
      ],
      "metadata": {
        "id": "iNb_Hi3bDFLx"
      },
      "execution_count": null,
      "outputs": []
    },
    {
      "cell_type": "code",
      "source": [
        "import pandas as pd\n",
        "encodings_to_try = ['utf-8', 'ISO-8859-1', 'cp1252']\n",
        "\n",
        "for encoding in encodings_to_try:\n",
        "    try:\n",
        "        df = pd.read_csv('/content/PPR-ALL.csv', encoding=encoding)\n",
        "        break\n",
        "    except UnicodeDecodeError:\n",
        "        continue"
      ],
      "metadata": {
        "id": "yKYMCkuADHNN"
      },
      "execution_count": null,
      "outputs": []
    },
    {
      "cell_type": "markdown",
      "source": [
        "##Cleaning Data for the RRPI dataset above ##\n"
      ],
      "metadata": {
        "id": "MGvBnV9QERKV"
      }
    },
    {
      "cell_type": "code",
      "source": [
        "print(f\"Column 8 name: {df.columns[8]}\")\n",
        "print(df.iloc[:, 8].head(20))"
      ],
      "metadata": {
        "id": "Mc19fgJsDYcK"
      },
      "execution_count": null,
      "outputs": []
    },
    {
      "cell_type": "code",
      "source": [
        "df.drop(df.columns[[3, 8]], axis=1, inplace=True)\n",
        "df.columns"
      ],
      "metadata": {
        "id": "Xb4fzOf1DrGy"
      },
      "execution_count": null,
      "outputs": []
    },
    {
      "cell_type": "code",
      "source": [
        "df.rename(columns={\n",
        "    'Date of Sale (dd/mm/yyyy)': 'Sale_Date',\n",
        "    'Price ()': 'Price',\n",
        "    'Not Full Market Price': 'NFMP',\n",
        "    'VAT Exclusive': 'VAT_Exclusive',\n",
        "    'Description of Property': 'Property_Description'\n",
        "}, inplace=True)\n",
        "df.columns"
      ],
      "metadata": {
        "id": "riKZ5amKDv9E"
      },
      "execution_count": null,
      "outputs": []
    },
    {
      "cell_type": "code",
      "source": [
        "df.isnull().sum()"
      ],
      "metadata": {
        "id": "z8ilUL0dEF7N"
      },
      "execution_count": null,
      "outputs": []
    },
    {
      "cell_type": "code",
      "source": [
        "df['Sale_Date'] = pd.to_datetime(df['Sale_Date'], errors='coerce')"
      ],
      "metadata": {
        "id": "JgxVUJRtEJvJ"
      },
      "execution_count": null,
      "outputs": []
    },
    {
      "cell_type": "code",
      "source": [
        "df['Price'] = df['Price'].str.replace(r'[^\\d.]', '', regex=True)\n",
        "df['Price'] = df['Price'].astype(float)\n",
        "print(df['Price'].head())"
      ],
      "metadata": {
        "id": "sIJdlr19ELYN"
      },
      "execution_count": null,
      "outputs": []
    },
    {
      "cell_type": "code",
      "source": [
        "df['Property_Description'] = df['Property_Description'].str.lower().str.strip()\n",
        "property_types = {\n",
        "    'new dwelling': 'new',\n",
        "    'second-hand dwelling': 'used',\n",
        "}\n",
        "df['Property_Type'] = df['Property_Description'].map(property_types).fillna('unknown')"
      ],
      "metadata": {
        "id": "8ktIYv56EkdN"
      },
      "execution_count": null,
      "outputs": []
    },
    {
      "cell_type": "code",
      "source": [
        "df['County'] = df['County'].str.replace('Co\\.', '', regex=True).str.strip()"
      ],
      "metadata": {
        "id": "Y43eFaaGEnLK"
      },
      "execution_count": null,
      "outputs": []
    },
    {
      "cell_type": "code",
      "source": [
        "df['Year'] = df['Sale_Date'].dt.year\n",
        "\n",
        "house_prices = df.groupby('Year')['Price'].median().reset_index()\n",
        "house_prices.rename(columns={'Price': 'Median_Price'}, inplace=True)"
      ],
      "metadata": {
        "id": "BZGBnUQTIgCu"
      },
      "execution_count": null,
      "outputs": []
    },
    {
      "cell_type": "markdown",
      "source": [
        "##Removing Outliers in the dataset##"
      ],
      "metadata": {
        "id": "XYAN6H2RFBdX"
      }
    },
    {
      "cell_type": "code",
      "source": [
        "Q1 = df['Price'].quantile(0.25)\n",
        "Q3 = df['Price'].quantile(0.75)\n",
        "IQR = Q3 - Q1\n",
        "df = df[~((df['Price'] < (Q1 - 1.5 * IQR)) | (df['Price'] > (Q3 + 1.5 * IQR)))]"
      ],
      "metadata": {
        "id": "XMM_cKsFEPxJ"
      },
      "execution_count": null,
      "outputs": []
    },
    {
      "cell_type": "markdown",
      "source": [
        "##Importing the CSO Vital Statistics Dataset##"
      ],
      "metadata": {
        "id": "Mr1MRqQVGQ4q"
      }
    },
    {
      "cell_type": "code",
      "source": [
        "import requests\n",
        "import json\n",
        "from pyjstat import pyjstat\n",
        "\n",
        "API_URL = \"https://ws.cso.ie/public/api.jsonrpc\"\n",
        "DATASET_ID = \"VSA12\"  # Vital Statistics Quarterly\n",
        "\n",
        "payload = {\n",
        "\t\"jsonrpc\": \"2.0\",\n",
        "\t\"method\": \"PxStat.Data.Cube_API.ReadDataset\",\n",
        "\t\"params\": {\n",
        "\t\t\"class\": \"query\",\n",
        "\t\t\"id\": [],\n",
        "\t\t\"dimension\": {},\n",
        "\t\t\"extension\": {\n",
        "\t\t\t\"pivot\": None,\n",
        "\t\t\t\"codes\": False,\n",
        "\t\t\t\"language\": {\n",
        "\t\t\t\t\"code\": \"en\"\n",
        "\t\t\t},\n",
        "\t\t\t\"format\": {\n",
        "\t\t\t\t\"type\": \"JSON-stat\",\n",
        "\t\t\t\t\"version\": \"2.0\"\n",
        "\t\t\t},\n",
        "\t\t\t\"matrix\": \"VSQ12\"\n",
        "\t\t},\n",
        "\t\t\"version\": \"2.0\"\n",
        "\t}\n",
        "}\n",
        "\n",
        "response = requests.post(API_URL, json=payload)\n",
        "\n",
        "if response.status_code == 200:\n",
        "    json_response = response.json()\n",
        "\n",
        "    json_stat_data = json_response.get('result')\n",
        "    json_stat_str = json.dumps(json_stat_data)\n",
        "    dataset = pyjstat.Dataset.read(json_stat_str)\n",
        "    vital_statistics_df = dataset.write('dataframe')\n",
        "    print(\"Data parsed successfully:\")\n",
        "    print(vital_statistics_df.head())\n",
        "else:\n",
        "    print(f\"Error: {response.status_code} - {response.text}\")"
      ],
      "metadata": {
        "id": "1Vlp8hJwE5Jw"
      },
      "execution_count": null,
      "outputs": []
    },
    {
      "cell_type": "markdown",
      "source": [
        "##Cleaning the dataset##"
      ],
      "metadata": {
        "id": "xJqlcyeGGq5e"
      }
    },
    {
      "cell_type": "code",
      "source": [
        "vital_statistics_df.columns"
      ],
      "metadata": {
        "id": "ft3_q4WOXliC"
      },
      "execution_count": null,
      "outputs": []
    },
    {
      "cell_type": "code",
      "source": [
        "vital_statistics_df.rename(columns={'value': 'births'},inplace = True)\n",
        "vital_statistics_df = vital_statistics_df.groupby(['Quarter',])['births'].sum().reset_index()"
      ],
      "metadata": {
        "id": "qSLt6DWfGt9a"
      },
      "execution_count": null,
      "outputs": []
    },
    {
      "cell_type": "code",
      "source": [
        "vital_statistics_df.sort_values(by=['Quarter'],inplace = True)"
      ],
      "metadata": {
        "id": "cfJdq22_HYZg"
      },
      "execution_count": null,
      "outputs": []
    },
    {
      "cell_type": "code",
      "source": [
        "vital_statistics_df['Year'] = vital_statistics_df['Quarter'].str[:4]\n",
        "vital_statistics_df.drop(columns=['Quarter'],inplace = True)"
      ],
      "metadata": {
        "id": "j_OulOR-HvPQ"
      },
      "execution_count": null,
      "outputs": []
    },
    {
      "cell_type": "code",
      "source": [
        "vital_statistics_df.groupby(['Year'])['births'].sum().reset_index()\n",
        "vital_statistics_df = vital_statistics_df.sort_values(by=['Year'])\n",
        "print(vital_statistics_df['Year'].unique())"
      ],
      "metadata": {
        "id": "cPsX-AahH-Uy"
      },
      "execution_count": null,
      "outputs": []
    },
    {
      "cell_type": "markdown",
      "source": [
        "##Importing average wages from CSO data ##"
      ],
      "metadata": {
        "id": "6VDR_EJzJRej"
      }
    },
    {
      "cell_type": "code",
      "source": [
        "import urllib.parse\n",
        "\n",
        "url = \"https://ws.cso.ie/public/api.jsonrpc\"\n",
        "\n",
        "encoded_payload = \"https://ws.cso.ie/public/api.jsonrpc?data=%7B%22jsonrpc%22:%222.0%22,%22method%22:%22PxStat.Data.Cube_API.ReadDataset%22,%22params%22:%7B%22class%22:%22query%22,%22id%22:%5B%22STATISTIC%22,%22C02511V03040%22%5D,%22dimension%22:%7B%22STATISTIC%22:%7B%22category%22:%7B%22index%22:%5B%22EHQ08C02%22%5D%7D%7D,%22C02511V03040%22:%7B%22category%22:%7B%22index%22:%5B%22-%22%5D%7D%7D%7D,%22extension%22:%7B%22pivot%22:null,%22codes%22:false,%22language%22:%7B%22code%22:%22en%22%7D,%22format%22:%7B%22type%22:%22JSON-stat%22,%22version%22:%222.0%22%7D,%22matrix%22:%22EHQ08%22%7D,%22version%22:%222.0%22%7D%7D\".split('data=')[1]  # Replace with your full URL\n",
        "\n",
        "\n",
        "decoded_payload = urllib.parse.unquote(encoded_payload)\n",
        "payload = json.loads(decoded_payload)\n",
        "\n",
        "headers = {\n",
        "    'Content-Type': 'application/json-rpc',\n",
        "    'Accept': 'application/json'\n",
        "}\n",
        "\n",
        "try:\n",
        "    response = requests.post(url, json=payload, headers=headers)\n",
        "    response.raise_for_status()\n",
        "\n",
        "    data = response.json()\n",
        "\n",
        "    try:\n",
        "        datasets = pyjstat.from_json_stat(data['result'])\n",
        "        income_data = datasets[0]\n",
        "\n",
        "        print(\"Successfully downloaded dataset with columns:\")\n",
        "        print(income_data.columns.tolist())\n",
        "        print(\"\\nFirst 5 rows:\")\n",
        "        print(income_data.head())\n",
        "\n",
        "        income_data.to_csv('cso_dataset.csv', index=False)\n",
        "        print(\"\\nDataset saved as 'cso_dataset.csv'\")\n",
        "\n",
        "    except Exception as e:\n",
        "        print(f\"Error parsing JSON-stat: {str(e)}\")\n",
        "        print(\"Raw response content:\")\n",
        "        print(json.dumps(data, indent=2))\n",
        "\n",
        "except requests.exceptions.RequestException as e:\n",
        "    print(f\"API request failed: {str(e)}\")"
      ],
      "metadata": {
        "id": "e97ZQjQYIUJv"
      },
      "execution_count": null,
      "outputs": []
    },
    {
      "cell_type": "markdown",
      "source": [
        "##Cleaning the Data##"
      ],
      "metadata": {
        "id": "pbbprL7CJllM"
      }
    },
    {
      "cell_type": "code",
      "source": [
        "income_data['Year'] = income_data['Quarter'].str[:4]\n",
        "income_data.drop(columns=['Quarter'])"
      ],
      "metadata": {
        "id": "1IwJuHMqJjyH"
      },
      "execution_count": null,
      "outputs": []
    },
    {
      "cell_type": "code",
      "source": [
        "income_data.groupby(['Year'])['value'].mean().reset_index()\n",
        "income_data = income_data.sort_values(by=['Year','value'])\n",
        "print(income_data['Year'].unique())"
      ],
      "metadata": {
        "id": "W3nAAP0uJusf"
      },
      "execution_count": null,
      "outputs": []
    },
    {
      "cell_type": "markdown",
      "source": [
        "##Importing the Cost of living data from the CSO's Consumer Price Index dataset##"
      ],
      "metadata": {
        "id": "zh0Thvn7-44g"
      }
    },
    {
      "cell_type": "code",
      "source": [
        "\n",
        "\n",
        "API_URL = \"https://ws.cso.ie/public/api.jsonrpc\"\n",
        "DATASET_ID = \"CPM01\"\n",
        "\n",
        "payload = {\n",
        "\t\"jsonrpc\": \"2.0\",\n",
        "\t\"method\": \"PxStat.Data.Cube_API.ReadDataset\",\n",
        "\t\"params\": {\n",
        "\t\t\"class\": \"query\",\n",
        "\t\t\"id\": [],\n",
        "\t\t\"dimension\": {},\n",
        "\t\t\"extension\": {\n",
        "\t\t\t\"pivot\": None,\n",
        "\t\t\t\"codes\": False,\n",
        "\t\t\t\"language\": {\n",
        "\t\t\t\t\"code\": \"en\"\n",
        "\t\t\t},\n",
        "\t\t\t\"format\": {\n",
        "\t\t\t\t\"type\": \"JSON-stat\",\n",
        "\t\t\t\t\"version\": \"2.0\"\n",
        "\t\t\t},\n",
        "\t\t\t\"matrix\": \"CPM01\"\n",
        "\t\t},\n",
        "\t\t\"version\": \"2.0\"\n",
        "\t}\n",
        "}\n",
        "\n",
        "response = requests.post(API_URL, json=payload)\n",
        "\n",
        "if response.status_code == 200:\n",
        "    json_response = response.json()\n",
        "\n",
        "    json_stat_data = json_response.get('result')\n",
        "    json_stat_str = json.dumps(json_stat_data)\n",
        "    dataset = pyjstat.Dataset.read(json_stat_str)\n",
        "    CPI_df = dataset.write('dataframe')\n",
        "    print(\"Data parsed successfully:\")\n",
        "    print(CPI_df.head(20))\n",
        "else:\n",
        "    print(f\"Error: {response.status_code} - {response.text}\")"
      ],
      "metadata": {
        "id": "07k1eAof_Dv9"
      },
      "execution_count": null,
      "outputs": []
    },
    {
      "cell_type": "markdown",
      "source": [
        "##Cleaning the data###"
      ],
      "metadata": {
        "id": "b4NxClqb_lgZ"
      }
    },
    {
      "cell_type": "code",
      "source": [
        "CPI_df.columns"
      ],
      "metadata": {
        "id": "JyoD9TQD_pTv"
      },
      "execution_count": null,
      "outputs": []
    },
    {
      "cell_type": "code",
      "source": [
        "CPI_all_items = CPI_df[CPI_df['Commodity Group'] == 'All items'].copy()\n",
        "CPI_all_items['Year'] = CPI_all_items['Month'].str.extract(r'(\\d{4})').astype(int)\n",
        "CPI_all_items = CPI_all_items[CPI_all_items['Year'] >= 2010]\n",
        "CPI_all_items.dropna(subset=['value'], inplace=True)\n",
        "CPI_yearly = CPI_all_items.groupby('Year')['value'].mean().reset_index()\n",
        "CPI_yearly.rename(columns={'value': 'Cost_of_Living_Index'}, inplace=True)"
      ],
      "metadata": {
        "id": "KcB7gHzGArcj"
      },
      "execution_count": null,
      "outputs": []
    },
    {
      "cell_type": "code",
      "source": [
        "CPI_yearly.head(15)"
      ],
      "metadata": {
        "id": "jfBJ9MqVztIw"
      },
      "execution_count": null,
      "outputs": []
    },
    {
      "cell_type": "markdown",
      "source": [
        "##Combining the Data##"
      ],
      "metadata": {
        "id": "T2lP_VcAKOkJ"
      }
    },
    {
      "cell_type": "code",
      "source": [
        "df['Year'] = df['Sale_Date'].dt.year\n",
        "\n",
        "house_prices = df.groupby('Year')['Price'].median().reset_index()\n",
        "house_prices.rename(columns={'Price': 'Median_Price'}, inplace=True)"
      ],
      "metadata": {
        "id": "2UdF7CRHKSzy"
      },
      "execution_count": null,
      "outputs": []
    },
    {
      "cell_type": "code",
      "source": [
        "births_yearly = vital_statistics_df.groupby('Year')['births'].sum().reset_index()"
      ],
      "metadata": {
        "id": "C-J_nIrsKtxr"
      },
      "execution_count": null,
      "outputs": []
    },
    {
      "cell_type": "code",
      "source": [
        "house_prices['Year'] = house_prices['Year'].astype(str).str.replace('.0', '', regex=False)\n",
        "\n",
        "combined_data = pd.merge(\n",
        "    births_yearly,\n",
        "    house_prices,\n",
        "    on='Year',\n",
        "    how='outer'\n",
        ").sort_values('Year')\n",
        "\n",
        "print(\"Aligned data:\\n\", combined_data[['Year', 'births', 'Median_Price']])"
      ],
      "metadata": {
        "id": "RffUWc40K3wA"
      },
      "execution_count": null,
      "outputs": []
    },
    {
      "cell_type": "code",
      "source": [
        "average_yearly_wage = income_data.groupby('Year')['value'].mean().reset_index()"
      ],
      "metadata": {
        "id": "ZgU0Z8hc2sDW"
      },
      "execution_count": null,
      "outputs": []
    },
    {
      "cell_type": "code",
      "source": [
        "df['Year'] = df['Sale_Date'].dt.year\n",
        "house_prices = df.groupby('Year')['Price'].median().reset_index()\n",
        "house_prices.rename(columns={'Price': 'Median_Price'}, inplace=True)\n",
        "house_prices['Year'] = house_prices['Year'].astype(str).str.replace('.0', '', regex=False)\n",
        "\n",
        "births_yearly = vital_statistics_df.groupby('Year')['births'].sum().reset_index()\n",
        "births_yearly['Year'] = births_yearly['Year'].astype(str)\n",
        "\n",
        "combined_data = pd.merge(\n",
        "    births_yearly,\n",
        "    house_prices,\n",
        "    on='Year',\n",
        "    how='outer'\n",
        ").sort_values('Year')\n",
        "\n",
        "average_yearly_wage = income_data.groupby('Year')['value'].mean().reset_index()\n",
        "average_yearly_wage = average_yearly_wage.rename(columns={'value': 'Avg_Wage'})\n",
        "average_yearly_wage['Year'] = average_yearly_wage['Year'].astype(str).str.replace('.0', '', regex=False)\n",
        "\n",
        "combined_data = pd.merge(\n",
        "    combined_data,\n",
        "    average_yearly_wage,\n",
        "    on='Year',\n",
        "    how='outer'\n",
        ").sort_values('Year')\n",
        "\n",
        "CPI_yearly['Year'] = CPI_yearly['Year'].astype(str).str.replace('.0', '', regex=False)\n",
        "\n",
        "combined_data = pd.merge(\n",
        "    combined_data,\n",
        "    CPI_yearly,\n",
        "    on='Year',\n",
        "    how='outer'\n",
        ").sort_values('Year')\n",
        "\n",
        "print(\"Final combined data:\\n\", combined_data[['Year', 'births', 'Median_Price', 'Avg_Wage', 'Cost_of_Living_Index']])"
      ],
      "metadata": {
        "id": "c3iN94eE2ItK"
      },
      "execution_count": null,
      "outputs": []
    },
    {
      "cell_type": "code",
      "source": [
        "combined_data['Births_Normalized'] = combined_data['births'] / combined_data['births'].max()\n",
        "combined_data['Prices_Normalized'] = combined_data['Median_Price'] / combined_data['Median_Price'].max()\n",
        "combined_data['Wages_Normalised'] = combined_data['Avg_Wage'] / combined_data['Avg_Wage'].max()\n",
        "combined_data['CPI_Normalized'] = combined_data['Cost_of_Living_Index'] / combined_data['Cost_of_Living_Index'].max()\n",
        "\n",
        "all_years = pd.DataFrame({'Year': [str(y) for y in range(2007, 2025)]})\n",
        "\n",
        "combined_data = all_years.merge(combined_data, on='Year', how='left')\n",
        "\n",
        "print(combined_data.head())"
      ],
      "metadata": {
        "id": "sodxWPoyLZ8s"
      },
      "execution_count": null,
      "outputs": []
    },
    {
      "cell_type": "markdown",
      "source": [
        "##Preliminary Analysis##"
      ],
      "metadata": {
        "id": "SAsUW48eMM1h"
      }
    },
    {
      "cell_type": "code",
      "source": [
        "import matplotlib.ticker as ticker\n",
        "import matplotlib.pyplot as plt\n",
        "from matplotlib.ticker import MaxNLocator\n",
        "\n",
        "combined_data['births'] = pd.to_numeric(combined_data['births'])\n",
        "combined_data['Median_Price'] = pd.to_numeric(combined_data['Median_Price'])\n",
        "combined_data['Avg_Wage'] = pd.to_numeric(combined_data['Avg_Wage'])\n",
        "combined_data['Cost_of_Living_Index'] = pd.to_numeric(combined_data['Cost_of_Living_Index'])\n",
        "\n",
        "plt.figure(figsize=(14, 7))\n",
        "\n",
        "fig, (ax1, ax2,ax3,ax4) = plt.subplots(4, 1, figsize=(14, 10), sharex=True)\n",
        "\n",
        "ax1.plot(combined_data['Year'], combined_data['births'], 'b-o')\n",
        "ax1.set_ylabel('Births', color='navy')\n",
        "ax1.grid(True, alpha=0.3)\n",
        "\n",
        "ax2.plot(combined_data['Year'], combined_data['Median_Price'], 'r-s')\n",
        "ax2.set_ylabel('House Prices (€)', color='darkred')\n",
        "ax2.grid(True, alpha=0.3)\n",
        "\n",
        "ax3.plot(combined_data['Year'], combined_data['Avg_Wage'], 'g-x')\n",
        "ax3.set_ylabel('Average Wages (€)', color='darkgreen')\n",
        "ax3.grid(True, alpha=0.3)\n",
        "\n",
        "ax4.plot(combined_data['Year'], combined_data['Cost_of_Living_Index'], 'm-^')\n",
        "ax4.set_ylabel('Cost of Living Index', color='darkmagenta')\n",
        "ax4.grid(True, alpha=0.3)\n",
        "\n",
        "plt.suptitle('Separate Views: Births, Housing Prices, Avg Weekly Wages and Cost of Living Index')\n",
        "plt.show()"
      ],
      "metadata": {
        "id": "NWNBDeehMMOd"
      },
      "execution_count": null,
      "outputs": []
    },
    {
      "cell_type": "code",
      "source": [
        "plt.figure(figsize=(14, 7))\n",
        "fig, ax1 = plt.subplots(figsize=(14, 7))\n",
        "\n",
        "color = 'tab:blue'\n",
        "ax1.set_xlabel('Year', fontsize=12)\n",
        "ax1.set_ylabel('Total Births', color=color, fontsize=12)\n",
        "births_line = ax1.plot(combined_data['Year'],\n",
        "                      combined_data['births'],\n",
        "                      color=color,\n",
        "                      marker='o',\n",
        "                      linestyle='-',\n",
        "                      linewidth=2,\n",
        "                      markersize=8,\n",
        "                      label='Births')\n",
        "\n",
        "for year, births in zip(combined_data['Year'], combined_data['births']):\n",
        "    ax1.annotate(f'{births:,.0f}',  # Format with commas\n",
        "                xy=(year, births),\n",
        "                xytext=(0, 5),  # Offset upward\n",
        "                textcoords='offset points',\n",
        "                ha='center',\n",
        "                color=color,\n",
        "                fontsize=9)\n",
        "\n",
        "ax1.tick_params(axis='y', labelcolor=color)\n",
        "ax1.set_xticks(range(2010, 2025))\n",
        "ax1.xaxis.set_major_locator(MaxNLocator(nbins=10))\n",
        "plt.xticks(rotation=45, ha='right')\n",
        "\n",
        "ax2 = ax1.twinx()\n",
        "color = 'tab:red'\n",
        "ax2.set_ylabel('Median House Price (€)', color=color, fontsize=12)\n",
        "houses_line = ax2.plot(combined_data['Year'],\n",
        "                      combined_data['Median_Price'],\n",
        "                      color=color,\n",
        "                      marker='s',\n",
        "                      linestyle='--',\n",
        "                      linewidth=2,\n",
        "                      markersize=8,\n",
        "                      label='House Prices')\n",
        "\n",
        "for year, price in zip(combined_data['Year'], combined_data['Median_Price']):\n",
        "    ax2.annotate(f'€{price:,.0f}',  # Euro symbol and commas\n",
        "                xy=(year, price),\n",
        "                xytext=(0, -15),  # Offset downward\n",
        "                textcoords='offset points',\n",
        "                ha='center',\n",
        "                color=color,\n",
        "                fontsize=9)\n",
        "\n",
        "ax2.tick_params(axis='y', labelcolor=color)\n",
        "\n",
        "lines = births_line + houses_line\n",
        "labels = [l.get_label() for l in lines]\n",
        "ax1.legend(lines, labels, loc='upper left', fontsize=10)\n",
        "ax1.grid(True, linestyle='--', alpha=0.7)\n",
        "plt.title('Births vs. House Prices in Ireland (2010-2024)', pad=20, fontsize=14)\n",
        "\n",
        "plt.tight_layout()\n",
        "plt.show()"
      ],
      "metadata": {
        "id": "sgzkOuJZMmmN"
      },
      "execution_count": null,
      "outputs": []
    },
    {
      "cell_type": "code",
      "source": [
        "plt.figure(figsize=(14, 7))\n",
        "fig, ax1 = plt.subplots(figsize=(14, 7))\n",
        "\n",
        "color = 'tab:blue'\n",
        "ax1.set_xlabel('Year', fontsize=12)\n",
        "ax1.set_ylabel('Avg Wage (€)', color=color, fontsize=12)\n",
        "wage_line = ax1.plot(combined_data['Year'],\n",
        "                    combined_data['Avg_Wage'],\n",
        "                    color=color,\n",
        "                    marker='o',\n",
        "                    linestyle='-',\n",
        "                    linewidth=2,\n",
        "                    markersize=8,\n",
        "                    label='Avg Wage')\n",
        "\n",
        "for year, wage in zip(combined_data['Year'], combined_data['Avg_Wage']):\n",
        "    ax1.annotate(f'€{wage:,.0f}',\n",
        "                xy=(year, wage),\n",
        "                xytext=(0, 5),\n",
        "                textcoords='offset points',\n",
        "                ha='center',\n",
        "                color=color,\n",
        "                fontsize=9,\n",
        "    )\n",
        "ax1.tick_params(axis='y', labelcolor=color)\n",
        "ax1.set_xticks(range(2010, 2025))\n",
        "ax1.xaxis.set_major_locator(MaxNLocator(nbins=10))\n",
        "plt.xticks(rotation=45, ha='right')\n",
        "\n",
        "ax2 = ax1.twinx()\n",
        "color = 'tab:red'\n",
        "ax2.set_ylabel('Cost of Living Index', color=color, fontsize=12)\n",
        "col_line = ax2.plot(combined_data['Year'],\n",
        "                   combined_data['Cost_of_Living_Index'],\n",
        "                   color=color,\n",
        "                   marker='s',\n",
        "                   linestyle='--',\n",
        "                   linewidth=2,\n",
        "                   markersize=8,\n",
        "                   label='Cost of Living Index')\n",
        "\n",
        "for year, col in zip(combined_data['Year'], combined_data['Cost_of_Living_Index']):\n",
        "    ax2.annotate(f'{col:.1f}',\n",
        "                xy=(year, col),\n",
        "                xytext=(0, -15),\n",
        "                textcoords='offset points',\n",
        "                ha='center',\n",
        "                color=color,\n",
        "                fontsize=9,\n",
        "    )\n",
        "\n",
        "ax2.tick_params(axis='y', labelcolor=color)\n",
        "\n",
        "lines = wage_line + col_line\n",
        "labels = [l.get_label() for l in lines]\n",
        "ax1.legend(lines, labels, loc='upper left', fontsize=10)\n",
        "ax1.grid(True, linestyle='--', alpha=0.7)\n",
        "plt.title('Cost of Living Index vs. Average Wage in Ireland (2010-2024)', pad=20, fontsize=14)\n",
        "\n",
        "plt.tight_layout()\n",
        "plt.show()"
      ],
      "metadata": {
        "id": "y3KBUmd410GY"
      },
      "execution_count": null,
      "outputs": []
    },
    {
      "cell_type": "markdown",
      "source": [
        "##Exploratory Data Analysis##\n"
      ],
      "metadata": {
        "id": "_t5BMi5DO6Sw"
      }
    },
    {
      "cell_type": "code",
      "source": [
        "import seaborn as sns\n",
        "\n",
        "# Calculating correlation\n",
        "combined_data['Year'] = combined_data['Year'].astype(int)\n",
        "filtered_data = combined_data[(combined_data['Year'] >= 2010) & (combined_data['Year'] <= 2024)]\n",
        "correlation = filtered_data['births'].corr(filtered_data['Median_Price'])\n",
        "print(f\"Correlation coefficient (2010–2024): {correlation:.2f}\")\n",
        "\n",
        "plt.figure(figsize=(10, 6))\n",
        "sns.regplot(x='Median_Price', y='births', data=combined_data,\n",
        "            scatter_kws={'alpha':0.6},\n",
        "            line_kws={'color':'red'})\n",
        "plt.title(f'Births vs. House Prices (r = {correlation:.2f})', fontsize=12)\n",
        "plt.xlabel('Median House Price (€)', fontsize=10)\n",
        "plt.ylabel('Number of Births', fontsize=10)\n",
        "plt.grid(True, alpha=0.3)\n",
        "plt.show()"
      ],
      "metadata": {
        "id": "9BEtyIYgM4jn"
      },
      "execution_count": null,
      "outputs": []
    },
    {
      "cell_type": "code",
      "source": [
        "import numpy as np\n",
        "import pandas as pd\n",
        "import matplotlib.pyplot as plt\n",
        "import statsmodels.api as sm\n",
        "\n",
        "combined_data_clean = combined_data[['Median_Price', 'births']].replace([np.inf, -np.inf], np.nan).dropna()\n",
        "\n",
        "x = combined_data_clean['Median_Price']\n",
        "y = combined_data_clean['births']\n",
        "\n",
        "x_const = sm.add_constant(x)\n",
        "model = sm.OLS(y, x_const).fit()\n",
        "predictions = model.predict(x_const)\n",
        "\n",
        "prediction_results = model.get_prediction(x_const)\n",
        "prediction_frame = prediction_results.summary_frame(alpha=0.05)\n",
        "iv_l = prediction_frame['obs_ci_lower']\n",
        "iv_u = prediction_frame['obs_ci_upper']\n",
        "\n",
        "sorted_idx = np.argsort(x)\n",
        "x_sorted = x.iloc[sorted_idx]\n",
        "y_sorted = y.iloc[sorted_idx]\n",
        "pred_sorted = predictions.iloc[sorted_idx]\n",
        "iv_l_sorted = iv_l.iloc[sorted_idx]\n",
        "iv_u_sorted = iv_u.iloc[sorted_idx]\n",
        "\n",
        "plt.figure(figsize=(14, 8))\n",
        "\n",
        "plt.plot(x_sorted, pred_sorted, label='Predicted Births', color='blue',\n",
        "         marker='o', markersize=8, linewidth=2)\n",
        "plt.fill_between(x_sorted, iv_l_sorted, iv_u_sorted, color='skyblue',\n",
        "                 alpha=0.3, label='95% CI')\n",
        "plt.errorbar(x_sorted, y_sorted, yerr=(iv_u_sorted - iv_l_sorted)/2,\n",
        "             fmt='o', color='orangered', alpha=0.6, label='Actual Births')\n",
        "\n",
        "baseline = y_sorted.iloc[0]\n",
        "\n",
        "for i, (xp, yp) in enumerate(zip(x_sorted, pred_sorted)):\n",
        "    delta = yp - baseline\n",
        "    pct = (delta / baseline) * 100\n",
        "\n",
        "    y_offset = 15 if i % 2 == 0 else -25\n",
        "    ha = 'center'\n",
        "\n",
        "    plt.annotate(\n",
        "        f\"€{int(xp):,}\\nΔ{pct:+.1f}%\",\n",
        "        xy=(xp, yp),\n",
        "        xytext=(0, y_offset),\n",
        "        textcoords=\"offset points\",\n",
        "        ha=ha,\n",
        "        fontsize=9,\n",
        "        bbox=dict(boxstyle='round,pad=0.3', fc='white', alpha=0.7),\n",
        "        arrowprops=dict(arrowstyle='-', lw=0.5)\n",
        "    )\n",
        "\n",
        "slope = model.params['Median_Price']\n",
        "intercept = model.params['const']\n",
        "equation_text = f\"y = {slope:.4f}x + {intercept:.0f}\\nR² = {model.rsquared:.3f}\"\n",
        "plt.text(0.05, 0.95, equation_text, transform=plt.gca().transAxes,\n",
        "         fontsize=11, bbox=dict(facecolor='white', alpha=0.8))\n",
        "\n",
        "plt.title(\"Impact of Housing Prices on Birth Rates in Ireland\", pad=20, fontsize=14)\n",
        "plt.xlabel(\"Median House Price (€)\", fontsize=12)\n",
        "plt.ylabel(\"Predicted Annual Births\", fontsize=12)\n",
        "plt.legend(loc='upper right', fontsize=10)\n",
        "plt.grid(True, linestyle='--', alpha=0.3)\n",
        "\n",
        "plt.xlim(x_sorted.min()*0.95, x_sorted.max()*1.05)\n",
        "plt.xticks(rotation=45, ha='right')\n",
        "\n",
        "plt.tight_layout()\n",
        "plt.savefig(\"housing_birth_impact_clean.png\", dpi=300, bbox_inches='tight')\n",
        "plt.show()"
      ],
      "metadata": {
        "id": "kIXoPEnALUCI"
      },
      "execution_count": null,
      "outputs": []
    },
    {
      "cell_type": "code",
      "source": [
        "combined_data['Price_Bin'] = pd.qcut(combined_data['Median_Price'], 5)\n",
        "\n",
        "summary = combined_data.groupby('Price_Bin').agg(\n",
        "    mean_births=('births', 'mean'),\n",
        "    mean_price=('Median_Price', 'mean')\n",
        ").reset_index()\n",
        "\n",
        "baseline = summary['mean_births'].iloc[0]\n",
        "summary['birth_change_pct'] = (summary['mean_births'] - baseline) / baseline * 100\n",
        "\n",
        "plt.figure(figsize=(10, 6))\n",
        "bars = plt.bar(range(len(summary)), summary['birth_change_pct'],\n",
        "               color=['#2ca02c'] + ['#1f77b4']*3 + ['#d62728'])\n",
        "\n",
        "for i, bar in enumerate(bars):\n",
        "    plt.text(bar.get_x() + bar.get_width()/2, bar.get_height() + np.sign(bar.get_height()) * 1.5,\n",
        "             f\"{summary['birth_change_pct'].iloc[i]:.1f}%\",\n",
        "             ha='center', va='bottom', fontsize=10)\n",
        "\n",
        "plt.title(\"Percentage Change in Births vs Median House Price Quintiles\", fontsize=14, pad=15)\n",
        "plt.xlabel(\"Median House Price Quintile\", fontsize=12)\n",
        "plt.ylabel(\"% Change in Births\", fontsize=12)\n",
        "plt.xticks(range(len(summary)), [f\"€{int(p):,}\" for p in summary['mean_price']], rotation=45)\n",
        "plt.axhline(0, color='gray', linestyle='--', linewidth=1)\n",
        "plt.grid(axis='y', linestyle=':', alpha=0.5)\n",
        "\n",
        "plt.annotate(\"Fertility Drop Zone\", (3.8, summary['birth_change_pct'].iloc[-1]),\n",
        "             xytext=(3.8, summary['birth_change_pct'].iloc[-1] - 10),\n",
        "             textcoords='data', ha='center',\n",
        "             arrowprops=dict(arrowstyle=\"->\", color='red'),\n",
        "             fontsize=10, color='red')\n",
        "\n",
        "plt.tight_layout()\n",
        "plt.savefig(\"birth_percentage_changes_fixed.png\", dpi=300)\n",
        "plt.show()"
      ],
      "metadata": {
        "id": "XxNd48RJO9PY"
      },
      "execution_count": null,
      "outputs": []
    },
    {
      "cell_type": "markdown",
      "source": [
        "##Bayesian Modelling##"
      ],
      "metadata": {
        "id": "iMhD974F4srd"
      }
    },
    {
      "cell_type": "code",
      "source": [
        "combined_data['Housing_Burden'] = combined_data['Median_Price'] / (combined_data['Avg_Wage'] * 52)\n",
        "\n",
        "print(\"=== VALIDATED DATA RANGES ===\")\n",
        "print(\"Realistic Housing Burden range:\",\n",
        "      round(combined_data['Housing_Burden'].min(), 1), \"-\",\n",
        "      round(combined_data['Housing_Burden'].max(), 1), \"years\")"
      ],
      "metadata": {
        "id": "0YyDagAF6J7C"
      },
      "execution_count": null,
      "outputs": []
    },
    {
      "cell_type": "code",
      "source": [
        "births_threshold = combined_data['births'].quantile(0.3)\n",
        "housing_threshold = combined_data['Housing_Burden'].quantile(0.7)\n",
        "cost_threshold = combined_data['Cost_of_Living_Index'].quantile(0.7)\n",
        "\n",
        "combined_data['Low_Fertility'] = combined_data['births'] <= births_threshold\n",
        "combined_data['High_Housing'] = combined_data['Housing_Burden'] >= housing_threshold\n",
        "combined_data['High_Cost'] = combined_data['Cost_of_Living_Index'] >= cost_threshold\n",
        "\n",
        "print(\"\\n=== BURDEN FLAG COUNTS ===\")\n",
        "print(\"High Housing Burden cases:\", combined_data['High_Housing'].sum())\n",
        "print(\"High Cost Burden cases:\", combined_data['High_Cost'].sum())\n",
        "print(\"Both burdens:\", combined_data[(combined_data['High_Housing']) & (combined_data['High_Cost'])].shape[0])"
      ],
      "metadata": {
        "id": "uwefOc-4GZhd"
      },
      "execution_count": null,
      "outputs": []
    },
    {
      "cell_type": "code",
      "source": [
        "pre_crisis = combined_data[combined_data['Year'].astype(int).between(2010, 2013)]\n",
        "post_crisis = combined_data[combined_data['Year'].astype(int).between(2014, 2023)]\n",
        "\n",
        "prior = max(pre_crisis['Low_Fertility'].mean(), 0.2)\n",
        "\n",
        "n_both_and_low = len(post_crisis[\n",
        "    (post_crisis['Low_Fertility']) &\n",
        "    (post_crisis['High_Housing']) &\n",
        "    (post_crisis['High_Cost'])\n",
        "])\n",
        "n_low_fertility = post_crisis['Low_Fertility'].sum()\n",
        "likelihood = n_both_and_low / n_low_fertility if n_low_fertility != 0 else 0\n",
        "\n",
        "n_both_burdens = len(post_crisis[\n",
        "    (post_crisis['High_Housing']) &\n",
        "    (post_crisis['High_Cost'])\n",
        "])\n",
        "evidence = n_both_burdens / len(post_crisis) if len(post_crisis) != 0 else 0\n",
        "\n",
        "posterior = (likelihood * prior) / evidence if evidence != 0 else 0"
      ],
      "metadata": {
        "id": "F2AMRrS_GSIk"
      },
      "execution_count": null,
      "outputs": []
    },
    {
      "cell_type": "code",
      "source": [
        "print(\"\\n=== BAYESIAN RESULTS ===\")\n",
        "print(f\"Prior: {prior:.2f}\")\n",
        "print(f\"Likelihood: {likelihood:.2f} ({n_both_and_low}/{n_low_fertility})\")\n",
        "print(f\"Evidence: {evidence:.2f} ({n_both_burdens}/{len(post_crisis)})\")\n",
        "print(f\"Posterior: {posterior:.2f}\")\n",
        "\n",
        "plt.figure(figsize=(10, 6))\n",
        "results = {\n",
        "    'Prior': prior,\n",
        "    'Posterior': posterior\n",
        "}\n",
        "plt.bar(results.keys(), results.values(), color=['blue', 'green'])\n",
        "plt.ylim(0, 1)\n",
        "plt.title('Probability of Low Fertility Before/After Economic Burdens')\n",
        "plt.ylabel('Probability')\n",
        "for i, v in enumerate(results.values()):\n",
        "    plt.text(i, v + 0.03, f\"{v:.2f}\", ha='center')\n",
        "plt.show()"
      ],
      "metadata": {
        "id": "8VNZCBP6Ci-p"
      },
      "execution_count": null,
      "outputs": []
    },
    {
      "cell_type": "code",
      "source": [
        "import pymc as pm\n",
        "import arviz as az\n",
        "\n",
        "with pm.Model() as fertility_model:\n",
        "    alpha = pm.Normal(\"alpha\", mu=0, sigma=1)\n",
        "    beta_housing = pm.Normal(\"beta_housing\", mu=0, sigma=1)\n",
        "    beta_cost = pm.Normal(\"beta_cost\", mu=0, sigma=1)\n",
        "\n",
        "\n",
        "    p = pm.math.sigmoid(\n",
        "        alpha +\n",
        "        beta_housing * combined_data[\"High_Housing\"].astype(int) +\n",
        "        beta_cost * combined_data[\"High_Cost\"].astype(int)\n",
        "    )\n",
        "\n",
        "    fertility_obs = pm.Bernoulli(\"fertility_obs\", p=p, observed=combined_data[\"Low_Fertility\"].astype(int))\n",
        "\n",
        "    trace = pm.sample(2000, tune=1000, target_accept=0.95)\n",
        "\n",
        "az.summary(trace)\n",
        "az.plot_posterior(trace)\n"
      ],
      "metadata": {
        "id": "SiBb74o_8arm"
      },
      "execution_count": null,
      "outputs": []
    },
    {
      "cell_type": "code",
      "source": [
        "from google.colab import _message\n",
        "contents = _message.blocking_request('get_ipynb')['ipynb']"
      ],
      "metadata": {
        "id": "wsTRr0pfZ_yX"
      },
      "execution_count": null,
      "outputs": []
    },
    {
      "cell_type": "code",
      "source": [
        "import json\n",
        "\n",
        "notebook_path = \"/content/cleaned_notebook.ipynb\"\n",
        "\n",
        "with open(notebook_path, 'w') as f:\n",
        "    json.dump(contents, f)\n",
        "\n",
        "print(f\"Notebook saved to: {notebook_path}\")"
      ],
      "metadata": {
        "id": "nZ_uWS8daHo_"
      },
      "execution_count": null,
      "outputs": []
    },
    {
      "cell_type": "code",
      "source": [
        "import json\n",
        "\n",
        "notebook_path = '/content/cleaned_notebook.ipynb'\n",
        "\n",
        "from google.colab import _message\n",
        "contents = _message.blocking_request('get_ipynb')['ipynb']\n",
        "with open(notebook_path, 'w') as f:\n",
        "    json.dump(contents, f)\n",
        "\n",
        "with open(notebook_path, 'r') as f:\n",
        "    nb = json.load(f)\n",
        "\n",
        "if 'metadata' in nb and 'widgets' in nb['metadata']:\n",
        "    del nb['metadata']['widgets']\n",
        "    print(\"Removed metadata.widgets\")\n",
        "\n",
        "with open(notebook_path, 'w') as f:\n",
        "    json.dump(nb, f)\n"
      ],
      "metadata": {
        "id": "WuFkuZOEX0QR"
      },
      "execution_count": null,
      "outputs": []
    }
  ]
}